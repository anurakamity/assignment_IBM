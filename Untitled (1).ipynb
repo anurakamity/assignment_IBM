{
 "cells": [
  {
   "cell_type": "markdown",
   "id": "8dc2cc5b-6b4d-460a-979a-93fd0f582649",
   "metadata": {},
   "source": [
    "<h1>My Jupyter Notebook on IBM Watson Studio</h1>"
   ]
  },
  {
   "cell_type": "markdown",
   "id": "e6df6bd5-1a72-49fe-b99d-a907565811a2",
   "metadata": {},
   "source": [
    "**Anurak Jittang**<br>\n",
    "Students"
   ]
  },
  {
   "cell_type": "markdown",
   "id": "ceaa5337-e326-4d59-b04e-298402d427a7",
   "metadata": {},
   "source": [
    "*I am interested in data science because I am a firm believer in data-driven decision.*"
   ]
  },
  {
   "cell_type": "markdown",
   "id": "5f43428e-79dc-482e-8991-c357444ba9d2",
   "metadata": {},
   "source": [
    "<h3>In the next cell, my code will print hello world</h3>"
   ]
  },
  {
   "cell_type": "code",
   "execution_count": 3,
   "id": "3c10712b-cb44-4dc9-8302-33f4a460b2af",
   "metadata": {},
   "outputs": [
    {
     "name": "stdout",
     "output_type": "stream",
     "text": [
      "hello world\n"
     ]
    }
   ],
   "source": [
    "print(\"hello world\")"
   ]
  },
  {
   "cell_type": "markdown",
   "id": "21f936ad-ca09-43c3-8590-7e2d7749a3bd",
   "metadata": {},
   "source": [
    "[Shrek](https://www.google.com/url?sa=i&url=https%3A%2F%2Fwww.shrekthemusical.co.uk%2F&psig=AOvVaw3Dm1NJjRqfvs0Jy2KjUyEu&ust=1665550158119000&source=images&cd=vfe&ved=0CAsQjRxqFwoTCIjrhP2v1_oCFQAAAAAdAAAAABAE)<br>\n",
    "![hey](https://m.media-amazon.com/images/M/MV5BZDE2ZjIxYzUtZTJjYS00OWQ0LTk2NGEtMDliYmI3MzMwYjhkXkEyXkFqcGdeQWFsZWxvZw@@._V1_QL75_UX500_CR0,0,500,281_.jpg)\n",
    "* Fiona\n",
    "* Donkey\n",
    "* Puss"
   ]
  },
  {
   "cell_type": "code",
   "execution_count": null,
   "id": "06411afc-fba8-4183-86ec-1a6325080c68",
   "metadata": {},
   "outputs": [],
   "source": []
  }
 ],
 "metadata": {
  "kernelspec": {
   "display_name": "Python",
   "language": "python",
   "name": "conda-env-python-py"
  },
  "language_info": {
   "codemirror_mode": {
    "name": "ipython",
    "version": 3
   },
   "file_extension": ".py",
   "mimetype": "text/x-python",
   "name": "python",
   "nbconvert_exporter": "python",
   "pygments_lexer": "ipython3",
   "version": "3.7.12"
  }
 },
 "nbformat": 4,
 "nbformat_minor": 5
}
